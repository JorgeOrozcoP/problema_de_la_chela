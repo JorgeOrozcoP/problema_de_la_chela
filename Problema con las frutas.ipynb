{
 "cells": [
  {
   "cell_type": "code",
   "execution_count": 1,
   "metadata": {
    "collapsed": true
   },
   "outputs": [],
   "source": [
    "import pandas as pd"
   ]
  },
  {
   "cell_type": "code",
   "execution_count": 3,
   "metadata": {},
   "outputs": [
    {
     "name": "stdout",
     "output_type": "stream",
     "text": [
      "   producto     tipo\n",
      "0  aguacate    fruta\n",
      "1  jitomate    fruta\n",
      "2  calabaza  verdura\n",
      "3    jicama  verdura\n",
      "4  arandano    fruta\n"
     ]
    }
   ],
   "source": [
    "lista1 = {'producto' : ['aguacate', 'jitomate', 'calabaza', 'jicama', 'arandano'],\n",
    "          'tipo' : ['fruta', 'fruta', 'verdura', 'verdura', 'fruta', ]}\n",
    "\n",
    "lista_productos = pd.DataFrame(lista1)\n",
    "\n",
    "print(lista_productos)"
   ]
  },
  {
   "cell_type": "code",
   "execution_count": 13,
   "metadata": {},
   "outputs": [
    {
     "name": "stdout",
     "output_type": "stream",
     "text": [
      "  codigo  producto\n",
      "0   a_43  aguacate\n",
      "1   a_73  arandano\n",
      "2   a_74  jitomate\n",
      "3   b_63    jicama\n",
      "4   c_63  calabaza\n"
     ]
    }
   ],
   "source": [
    "lista2 = {'producto' : ['aguacate', 'arandano', 'jitomate', 'jicama', 'calabaza', ], \n",
    "          'codigo' : ['a_43', 'a_73', 'a_74', 'b_63', 'c_63']}\n",
    "\n",
    "lista_codigos = pd.DataFrame(lista2)\n",
    "\n",
    "print(lista_codigos)"
   ]
  },
  {
   "cell_type": "code",
   "execution_count": 15,
   "metadata": {},
   "outputs": [
    {
     "name": "stdout",
     "output_type": "stream",
     "text": [
      "   producto     tipo codigo\n",
      "0  aguacate    fruta   a_43\n",
      "1  jitomate    fruta   a_74\n",
      "2  calabaza  verdura   c_63\n",
      "3    jicama  verdura   b_63\n",
      "4  arandano    fruta   a_73\n"
     ]
    }
   ],
   "source": [
    "lista_merge = pd.merge(lista_productos, lista_codigos, on='producto')\n",
    "\n",
    "print(lista_merge)"
   ]
  },
  {
   "cell_type": "code",
   "execution_count": 17,
   "metadata": {},
   "outputs": [
    {
     "name": "stdout",
     "output_type": "stream",
     "text": [
      "   producto   tipo codigo\n",
      "0  aguacate  fruta   a_43\n",
      "1  jitomate  fruta   a_74\n",
      "4  arandano  fruta   a_73\n"
     ]
    }
   ],
   "source": [
    "lista_frutas = lista_merge[lista_merge['tipo']=='fruta']\n",
    "\n",
    "print(lista_frutas)"
   ]
  },
  {
   "cell_type": "code",
   "execution_count": 19,
   "metadata": {},
   "outputs": [
    {
     "name": "stdout",
     "output_type": "stream",
     "text": [
      "   producto     tipo codigo\n",
      "2  calabaza  verdura   c_63\n",
      "3    jicama  verdura   b_63\n"
     ]
    }
   ],
   "source": [
    "lista_frutas = lista_merge[lista_merge['tipo']=='verdura']\n",
    "\n",
    "print(lista_frutas)"
   ]
  },
  {
   "cell_type": "code",
   "execution_count": 18,
   "metadata": {},
   "outputs": [
    {
     "name": "stdout",
     "output_type": "stream",
     "text": [
      "me gusta la XX Lager\n"
     ]
    }
   ],
   "source": [
    "print('me gusta la XX Lager')"
   ]
  }
 ],
 "metadata": {
  "kernelspec": {
   "display_name": "Python 3",
   "language": "python",
   "name": "python3"
  },
  "language_info": {
   "codemirror_mode": {
    "name": "ipython",
    "version": 3
   },
   "file_extension": ".py",
   "mimetype": "text/x-python",
   "name": "python",
   "nbconvert_exporter": "python",
   "pygments_lexer": "ipython3",
   "version": "3.6.5"
  }
 },
 "nbformat": 4,
 "nbformat_minor": 2
}
